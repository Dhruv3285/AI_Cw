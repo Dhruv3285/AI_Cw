{
 "cells": [
  {
   "cell_type": "code",
   "execution_count": 60,
   "id": "0fc3f4aa",
   "metadata": {},
   "outputs": [
    {
     "name": "stdout",
     "output_type": "stream",
     "text": [
      "Index(['<<<<<<< HEAD'], dtype='object')\n"
     ]
    }
   ],
   "source": [
    "%matplotlib inline\n",
    "import os\n",
    "import pandas as pd\n",
    "import numpy as np\n",
    "from sklearn.model_selection import train_test_split\n",
    "from sklearn.naive_bayes import GaussianNB\n",
    "\n",
    "path = \".\"\n",
    "\n",
    "filename_read = os.path.join(path, \"skyserver.csv\")\n",
    "df = pd.read_csv(filename_read)\n",
    "\n",
    "# dropping obselete features \n",
    "dataset.drop('objid',1,inplace=True) \n",
    "dataset.drop('rerun',1,inplace=True) \n",
    "print (df.columns)\n",
    "\n",
    "\n",
    "\n"
   ]
  },
  {
   "cell_type": "code",
   "execution_count": 50,
   "id": "52d26f1d",
   "metadata": {},
   "outputs": [
    {
     "name": "stdout",
     "output_type": "stream",
     "text": [
      "Accuracy: 0.9326923076923077\n"
     ]
    }
   ],
   "source": [
    "rate = (y_test != y_pred).sum() / X_test.shape[0]\n",
    "print(f\"Accuracy: {1 - rate}\")"
   ]
  },
  {
   "cell_type": "code",
   "execution_count": null,
   "id": "ec429362",
   "metadata": {},
   "outputs": [],
   "source": [
    "# split dataset\n",
    "X = data.iloc[:, 0:16]\n",
    "y = data.iloc[:, 16]\n",
    "X_train, X_test, y_train, y_test = train_test_split(X, y, random_state=0, test_size= 0.2)\n",
    "\n",
    "\n",
    "gnb = GaussianNB()\n",
    "gnb.fit(X_train, y_train)\n",
    "\n",
    "y_pred = gnb.predict(X_test)\n",
    "print(f\"total number of instances: {X_test.shape[0]} Incorrect Guesses: {(y_test != y_pred).sum()}\")"
   ]
  }
 ],
 "metadata": {
  "kernelspec": {
   "display_name": "Python 3",
   "language": "python",
   "name": "python3"
  },
  "language_info": {
   "codemirror_mode": {
    "name": "ipython",
    "version": 3
   },
   "file_extension": ".py",
   "mimetype": "text/x-python",
   "name": "python",
   "nbconvert_exporter": "python",
   "pygments_lexer": "ipython3",
   "version": "3.8.8"
  }
 },
 "nbformat": 4,
 "nbformat_minor": 5
}
