{
 "cells": [
  {
   "cell_type": "code",
   "execution_count": 358,
   "id": "0fc3f4aa",
   "metadata": {},
   "outputs": [
    {
     "name": "stdout",
     "output_type": "stream",
     "text": [
      "Accuracy Score of GaussianNB() is:\n",
      "0.8759562841530054\n",
      "F1 Score of GaussianNB() is:\n",
      "0.8446269678302533\n"
     ]
    },
    {
     "name": "stderr",
     "output_type": "stream",
     "text": [
      "<ipython-input-358-3b9b22f79ca4>:37: FutureWarning: In a future version of pandas all arguments of DataFrame.drop except for the argument 'labels' will be keyword-only\n",
      "  df.drop('objid',1,inplace=True)\n",
      "<ipython-input-358-3b9b22f79ca4>:38: FutureWarning: In a future version of pandas all arguments of DataFrame.drop except for the argument 'labels' will be keyword-only\n",
      "  df.drop('rerun',1,inplace=True)\n"
     ]
    },
    {
     "data": {
      "image/png": "[encoded data removed]",
      "text/plain": [
       "<Figure size 432x288 with 2 Axes>"
      ]
     },
     "metadata": {
      "needs_background": "light"
     },
     "output_type": "display_data"
    }
   ],
   "source": [
    "%matplotlib inline\n",
    "\n",
    "import os\n",
    "import pandas as pd\n",
    "import numpy as np\n",
    "import seaborn as sns\n",
    "import matplotlib.pyplot as plt\n",
    "from sklearn.model_selection import train_test_split\n",
    "from sklearn.naive_bayes import GaussianNB\n",
    "from sklearn.metrics import accuracy_score\n",
    "from sklearn.metrics import f1_score\n",
    "from sklearn.metrics import confusion_matrix\n",
    "from sklearn.metrics import ConfusionMatrixDisplay\n",
    "\n",
    "#Reading file and using as dataframe\n",
    "path=\".\"\n",
    "filename_read=os.path.join(path, \"skyserver - Original.csv\")\n",
    "df=pd.read_csv(filename_read)\n",
    "\n",
    "#Check for data types\n",
    "#df.info()\n",
    "#Class is of 'object' data type, and no null values\n",
    "\n",
    "#print(df['class'].value_counts())\n",
    "#Removing Quasars as we are focussing on classifying Star's and Galaxies\n",
    "df=df.drop(df[df['class']=='QSO'].sample(frac=1.00).index)\n",
    "\n",
    "#Changing categorical type data to numerical to allow for correlation checks\n",
    "df['class']=df['class'].replace({'STAR': 1})\n",
    "df['class']=df['class'].replace({'GALAXY': 2})\n",
    "#print(df['class'].unique())\n",
    "#print(df.count())\n",
    "\n",
    "#Deleting obselete columns as they both contain one distinct value\n",
    "#print(df['objid'].unique())\n",
    "#print(df['rerun'].unique())\n",
    "df.drop('objid',1,inplace=True) \n",
    "df.drop('rerun',1,inplace=True) \n",
    "\n",
    "#Heatmap to visualise correlation between class and features\n",
    "#plt.figure(figsize=(20,15))\n",
    "#sns.heatmap(df.corr(),annot=True)\n",
    "\n",
    "#Reorder column order to put class at the end\n",
    "df=df[['ra', 'dec', 'u', 'g', 'r', 'i', 'z', 'run', 'camcol', 'field',\n",
    "        'specobjid', 'redshift', 'plate', 'mjd', 'fiberid', 'class']]\n",
    "#Set variables X and y to input and target variables\n",
    "X=df.iloc[:, 0:15]\n",
    "y=df.iloc[:, 15] #Last column is target 'class'\n",
    "\n",
    "#Split data into training and testing\n",
    "X_train,X_test,y_train,y_test=train_test_split(X.values, y, test_size=0.2, random_state=42)\n",
    "\n",
    "#Implement Gaussian model\n",
    "gnb=GaussianNB()\n",
    "gnb.fit(X_train, y_train)\n",
    "y_pred=gnb.predict(X_test)\n",
    "\n",
    "#Accuracy, F1 Score\n",
    "print('Accuracy Score of',gnb,'is:')\n",
    "print(accuracy_score(y_test,y_pred))\n",
    "print('F1 Score of',gnb,'is:')\n",
    "print(f1_score(y_test,y_pred))\n",
    "  \n",
    "#Confusion matrix with heatmap\n",
    "cm=confusion_matrix(y_test, y_pred)\n",
    "ax=plt.subplot()\n",
    "sns.heatmap(cm, annot=True, fmt='g', ax=ax); \n",
    "#Set label titles\n",
    "ax.set_xlabel('Predicted labels');ax.set_ylabel('True labels'); \n",
    "ax.set_title('Confusion Matrix'); \n",
    "ax.xaxis.set_ticklabels(['STAR', 'GALAXY']); ax.yaxis.set_ticklabels(['STAR', 'GALAXY']);\n"
   ]
  },
  {
   "cell_type": "code",
   "execution_count": null,
   "id": "942c476e",
   "metadata": {},
   "outputs": [],
   "source": []
  }
 ],
 "metadata": {
  "kernelspec": {
   "display_name": "Python 3",
   "language": "python",
   "name": "python3"
  },
  "language_info": {
   "codemirror_mode": {
    "name": "ipython",
    "version": 3
   },
   "file_extension": ".py",
   "mimetype": "text/x-python",
   "name": "python",
   "nbconvert_exporter": "python",
   "pygments_lexer": "ipython3",
   "version": "3.8.8"
  }
 },
 "nbformat": 4,
 "nbformat_minor": 5
}
