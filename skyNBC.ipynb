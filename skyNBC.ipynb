{
 "cells": [
  {
   "cell_type": "code",
   "execution_count": 186,
   "id": "0fc3f4aa",
   "metadata": {},
   "outputs": [
    {
     "name": "stdout",
     "output_type": "stream",
     "text": [
      "Accuracy Score of GaussianNB() is:\n",
      "0.9387417218543046\n"
     ]
    },
    {
     "name": "stderr",
     "output_type": "stream",
     "text": [
      "<ipython-input-186-48a39de8a8c9>:17: FutureWarning: In a future version of pandas all arguments of DataFrame.drop except for the argument 'labels' will be keyword-only\n",
      "  df.drop('objid',1,inplace=True)\n",
      "<ipython-input-186-48a39de8a8c9>:18: FutureWarning: In a future version of pandas all arguments of DataFrame.drop except for the argument 'labels' will be keyword-only\n",
      "  df.drop('rerun',1,inplace=True)\n",
      "/opt/anaconda3/lib/python3.8/site-packages/sklearn/utils/validation.py:63: DataConversionWarning: A column-vector y was passed when a 1d array was expected. Please change the shape of y to (n_samples, ), for example using ravel().\n",
      "  return f(*args, **kwargs)\n"
     ]
    }
   ],
   "source": [
    "%matplotlib inline\n",
    "import os\n",
    "import pandas as pd\n",
    "import numpy as np\n",
    "import seaborn as sns\n",
    "from sklearn.model_selection import train_test_split\n",
    "from sklearn.naive_bayes import GaussianNB\n",
    "from sklearn.metrics import accuracy_score\n",
    "from sklearn.preprocessing import LabelEncoder\n",
    "\n",
    "#Reading file and using as dataframe\n",
    "path=\".\"\n",
    "filename_read=os.path.join(path, \"skyserverv2.csv\")\n",
    "df=pd.read_csv(filename_read)\n",
    "\n",
    "# dropping obselete features \n",
    "df.drop('objid',1,inplace=True) \n",
    "df.drop('rerun',1,inplace=True)\n",
    "\n",
    "#Check for count difference\n",
    "#sns.countplot(df['class'])\n",
    "#df['class'].value_counts()\n",
    "\n",
    "X=df.iloc[:, 15]\n",
    "y=df.iloc[:,14:15]\n",
    "X=df.drop(['class'],axis=1)\n",
    "\n",
    "#Scaling\n",
    "scale=StandardScaler()\n",
    "X=scale.fit_transform(X)\n",
    "\n",
    "#Split data\n",
    "X_train,X_test,y_train,y_test=train_test_split(X,y,test_size=.33,random_state=42)\n",
    "\n",
    "gnb = GaussianNB()\n",
    "gnb.fit(X_train, y_train)\n",
    "\n",
    "y_pred = gnb.predict(X_test)\n",
    "y_pred=y_pred.reshape(3020,1)\n",
    "\n",
    "print('Accuracy Score of',gnb,'is:')\n",
    "print(accuracy_score(y_test,y_pred))\n",
    "\n"
   ]
  },
  {
   "cell_type": "code",
   "execution_count": 162,
   "id": "ec429362",
   "metadata": {},
   "outputs": [
    {
     "name": "stdout",
     "output_type": "stream",
     "text": [
      "total number of instances: 104 Incorrect Guesses: 7\n",
      "Accuracy: 0.9326923076923077\n"
     ]
    }
   ],
   "source": []
  },
  {
   "cell_type": "code",
   "execution_count": null,
   "id": "472da2fe",
   "metadata": {},
   "outputs": [],
   "source": []
  }
 ],
 "metadata": {
  "kernelspec": {
   "display_name": "Python 3",
   "language": "python",
   "name": "python3"
  },
  "language_info": {
   "codemirror_mode": {
    "name": "ipython",
    "version": 3
   },
   "file_extension": ".py",
   "mimetype": "text/x-python",
   "name": "python",
   "nbconvert_exporter": "python",
   "pygments_lexer": "ipython3",
   "version": "3.8.8"
  }
 },
 "nbformat": 4,
 "nbformat_minor": 5
}
