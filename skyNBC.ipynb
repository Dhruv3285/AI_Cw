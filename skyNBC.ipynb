{
 "cells": [
  {
   "cell_type": "code",
   "execution_count": 182,
   "id": "0fc3f4aa",
   "metadata": {},
   "outputs": [
    {
     "ename": "IndentationError",
     "evalue": "unexpected indent (<ipython-input-182-1ec0238b2e8e>, line 41)",
     "output_type": "error",
     "traceback": [
      "\u001b[0;36m  File \u001b[0;32m\"<ipython-input-182-1ec0238b2e8e>\"\u001b[0;36m, line \u001b[0;32m41\u001b[0m\n\u001b[0;31m    print('Accuracy Score of',m,'is:')\u001b[0m\n\u001b[0m    ^\u001b[0m\n\u001b[0;31mIndentationError\u001b[0m\u001b[0;31m:\u001b[0m unexpected indent\n"
     ]
    }
   ],
   "source": [
    "%matplotlib inline\n",
    "import os\n",
    "import pandas as pd\n",
    "import numpy as np\n",
    "import seaborn as sns\n",
    "from sklearn.model_selection import train_test_split\n",
    "from sklearn.naive_bayes import GaussianNB\n",
    "from sklearn.metrics import accuracy_score\n",
    "from sklearn.preprocessing import LabelEncoder\n",
    "\n",
    "#Reading file and using as dataframe\n",
    "path=\".\"\n",
    "filename_read=os.path.join(path, \"skyserverv2.csv\")\n",
    "df=pd.read_csv(filename_read)\n",
    "\n",
    "# dropping obselete features \n",
    "df.drop('objid',1,inplace=True) \n",
    "df.drop('rerun',1,inplace=True)\n",
    "\n",
    "#Check for count difference\n",
    "#sns.countplot(df['class'])\n",
    "#df['class'].value_counts()\n",
    "\n",
    "X=df.iloc[:, 15]\n",
    "y=df.iloc[:,14:15]\n",
    "X=df.drop(['class'],axis=1)\n",
    "\n",
    "#Scaling\n",
    "scale=StandardScaler()\n",
    "X=scale.fit_transform(X)\n",
    "\n",
    "#Split data\n",
    "X_train,X_test,y_train,y_test=train_test_split(X,y,test_size=.33,random_state=42)\n",
    "\n",
    "gnb = GaussianNB()\n",
    "gnb.fit(X_train, y_train)\n",
    "\n",
    "y_pred = gnb.predict(X_test)\n",
    "y_pred=y_pred.reshape(3020,1)\n",
    "\n",
    "print('Accuracy Score of',m,'is:')\n",
    "print(accuracy_score(y_test,predm))\n",
    "\n"
   ]
  },
  {
   "cell_type": "code",
   "execution_count": 162,
   "id": "ec429362",
   "metadata": {},
   "outputs": [
    {
     "name": "stdout",
     "output_type": "stream",
     "text": [
      "total number of instances: 104 Incorrect Guesses: 7\n",
      "Accuracy: 0.9326923076923077\n"
     ]
    }
   ],
   "source": [
    "# split dataset\n",
    "X = data.iloc[:, 0:16]\n",
    "y = data.iloc[:, 16]\n",
    "X_train, X_test, y_train, y_test = train_test_split(X, y, random_state=0, test_size= 0.2)\n",
    "\n",
    "\n",
    "gnb = GaussianNB()\n",
    "gnb.fit(X_train, y_train)\n",
    "\n",
    "y_pred = gnb.predict(X_test)\n",
    "print(f\"total number of instances: {X_test.shape[0]} Incorrect Guesses: {(y_test != y_pred).sum()}\")\n",
    "\n",
    "rate = (y_test != y_pred).sum() / X_test.shape[0]\n",
    "print(f\"Accuracy: {1 - rate}\")"
   ]
  },
  {
   "cell_type": "code",
   "execution_count": null,
   "id": "10b1260f",
   "metadata": {},
   "outputs": [],
   "source": []
  }
 ],
 "metadata": {
  "kernelspec": {
   "display_name": "Python 3",
   "language": "python",
   "name": "python3"
  },
  "language_info": {
   "codemirror_mode": {
    "name": "ipython",
    "version": 3
   },
   "file_extension": ".py",
   "mimetype": "text/x-python",
   "name": "python",
   "nbconvert_exporter": "python",
   "pygments_lexer": "ipython3",
   "version": "3.8.8"
  }
 },
 "nbformat": 4,
 "nbformat_minor": 5
}
