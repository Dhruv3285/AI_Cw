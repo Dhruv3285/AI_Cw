{
 "cells": [
  {
   "cell_type": "code",
   "execution_count": 72,
   "id": "0fc3f4aa",
   "metadata": {},
   "outputs": [
    {
     "name": "stdout",
     "output_type": "stream",
     "text": [
      "                                                                                                                                                <<<<<<< HEAD\n",
      "objid    ra          dec         u        g        r        i        z        run rerun camcol field specobjid redshift     plate mjd   fiberid        class\n",
      "1.24E+18 183.5313257 0.08969303  19.47406 17.0424  15.94699 15.50342 15.22531 752 301   4      267   3.72E+18  -8.96E-06    3306  54922 491                1\n",
      "         183.5983705 0.135285032 18.6628  17.21449 16.67637 16.48922 16.3915  752 301   4      267   3.64E+17  -5.49E-05    323   51615 541                1\n",
      "         183.6802074 0.126185092 19.38298 18.19169 17.47428 17.08732 16.80125 752 301   4      268   3.23E+17  0.1231112    287   52023 513                2\n",
      "         183.8705294 0.049910685 17.76536 16.60272 16.16116 15.98233 15.90438 752 301   4      269   3.72E+18  -0.000110616 3306  54922 510                1\n",
      "         183.8832883 0.102556752 17.55025 16.26342 16.43869 16.55492 16.61326 752 301   4      269   3.72E+18  0.000590357  3306  54922 512                1\n",
      "         183.8471736 0.173694164 19.43133 18.46779 18.16451 18.01475 18.04155 752 301   4      269   3.65E+17  0.000314603  324   51666 594                1\n",
      "         183.864379  0.019200711 19.38322 17.88995 17.10537 16.66393 16.36955 752 301   4      269   3.23E+17  0.1002423    287   52023 559                2\n",
      "         183.9000814 0.187473297 18.97993 17.84496 17.38022 17.20673 17.07071 752 301   4      269   3.72E+18  0.000314848  3306  54922 515                1\n",
      "         183.9245885 0.097245782 17.90616 16.97172 16.67541 16.53776 16.47596 752 301   4      270   3.64E+17  8.91E-05     323   51615 595                1\n"
     ]
    }
   ],
   "source": [
    "%matplotlib inline\n",
    "import os\n",
    "import pandas as pd\n",
    "import numpy as np\n",
    "from sklearn.model_selection import train_test_split\n",
    "from sklearn.naive_bayes import GaussianNB\n",
    "\n",
    "path = \".\"\n",
    "\n",
    "filename_read = os.path.join(path, \"skyserver.csv\")\n",
    "df = pd.read_csv(filename_read)\n",
    "\n",
    "\n",
    "print(df.head(10))\n",
    "\n",
    "\n",
    "\n"
   ]
  },
  {
   "cell_type": "code",
   "execution_count": null,
   "id": "ec429362",
   "metadata": {},
   "outputs": [],
   "source": [
    "# split dataset\n",
    "X = data.iloc[:, 0:16]\n",
    "y = data.iloc[:, 16]\n",
    "X_train, X_test, y_train, y_test = train_test_split(X, y, random_state=0, test_size= 0.2)\n",
    "\n",
    "\n",
    "gnb = GaussianNB()\n",
    "gnb.fit(X_train, y_train)\n",
    "\n",
    "y_pred = gnb.predict(X_test)\n",
    "print(f\"total number of instances: {X_test.shape[0]} Incorrect Guesses: {(y_test != y_pred).sum()}\")\n",
    "\n",
    "rate = (y_test != y_pred).sum() / X_test.shape[0]\n",
    "print(f\"Accuracy: {1 - rate}\")"
   ]
  }
 ],
 "metadata": {
  "kernelspec": {
   "display_name": "Python 3",
   "language": "python",
   "name": "python3"
  },
  "language_info": {
   "codemirror_mode": {
    "name": "ipython",
    "version": 3
   },
   "file_extension": ".py",
   "mimetype": "text/x-python",
   "name": "python",
   "nbconvert_exporter": "python",
   "pygments_lexer": "ipython3",
   "version": "3.8.8"
  }
 },
 "nbformat": 4,
 "nbformat_minor": 5
}
